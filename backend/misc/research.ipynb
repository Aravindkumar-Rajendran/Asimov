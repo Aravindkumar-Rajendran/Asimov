{
 "cells": [
  {
   "cell_type": "code",
   "execution_count": 93,
   "metadata": {},
   "outputs": [
    {
     "name": "stdout",
     "output_type": "stream",
     "text": [
      "Requirement already satisfied: textacy in /mnt/Work/My_works/AI_projects/Asimov/venv/lib/python3.10/site-packages (0.12.0)\n",
      "Requirement already satisfied: requests>=2.10.0 in /mnt/Work/My_works/AI_projects/Asimov/venv/lib/python3.10/site-packages (from textacy) (2.28.1)\n",
      "Requirement already satisfied: scikit-learn>=0.19.0 in /mnt/Work/My_works/AI_projects/Asimov/venv/lib/python3.10/site-packages (from textacy) (1.2.0)\n",
      "Requirement already satisfied: scipy>=0.17.0 in /mnt/Work/My_works/AI_projects/Asimov/venv/lib/python3.10/site-packages (from textacy) (1.9.3)\n",
      "Requirement already satisfied: pyphen>=0.10.0 in /mnt/Work/My_works/AI_projects/Asimov/venv/lib/python3.10/site-packages (from textacy) (0.13.2)\n",
      "Requirement already satisfied: catalogue~=2.0 in /mnt/Work/My_works/AI_projects/Asimov/venv/lib/python3.10/site-packages (from textacy) (2.0.8)\n",
      "Requirement already satisfied: tqdm>=4.19.6 in /mnt/Work/My_works/AI_projects/Asimov/venv/lib/python3.10/site-packages (from textacy) (4.64.1)\n",
      "Requirement already satisfied: networkx>=2.0 in /mnt/Work/My_works/AI_projects/Asimov/venv/lib/python3.10/site-packages (from textacy) (2.8.8)\n",
      "Requirement already satisfied: cachetools>=4.0.0 in /mnt/Work/My_works/AI_projects/Asimov/venv/lib/python3.10/site-packages (from textacy) (5.2.0)\n",
      "Requirement already satisfied: jellyfish>=0.8.0 in /mnt/Work/My_works/AI_projects/Asimov/venv/lib/python3.10/site-packages (from textacy) (0.9.0)\n",
      "Requirement already satisfied: numpy>=1.17.0 in /mnt/Work/My_works/AI_projects/Asimov/venv/lib/python3.10/site-packages (from textacy) (1.23.5)\n",
      "Requirement already satisfied: spacy>=3.0.0 in /mnt/Work/My_works/AI_projects/Asimov/venv/lib/python3.10/site-packages (from textacy) (3.4.3)\n",
      "Requirement already satisfied: joblib>=0.13.0 in /mnt/Work/My_works/AI_projects/Asimov/venv/lib/python3.10/site-packages (from textacy) (1.2.0)\n",
      "Requirement already satisfied: cytoolz>=0.10.1 in /mnt/Work/My_works/AI_projects/Asimov/venv/lib/python3.10/site-packages (from textacy) (0.12.0)\n",
      "Requirement already satisfied: toolz>=0.8.0 in /mnt/Work/My_works/AI_projects/Asimov/venv/lib/python3.10/site-packages (from cytoolz>=0.10.1->textacy) (0.12.0)\n",
      "Requirement already satisfied: idna<4,>=2.5 in /mnt/Work/My_works/AI_projects/Asimov/venv/lib/python3.10/site-packages (from requests>=2.10.0->textacy) (3.4)\n",
      "Requirement already satisfied: certifi>=2017.4.17 in /mnt/Work/My_works/AI_projects/Asimov/venv/lib/python3.10/site-packages (from requests>=2.10.0->textacy) (2022.12.7)\n",
      "Requirement already satisfied: charset-normalizer<3,>=2 in /mnt/Work/My_works/AI_projects/Asimov/venv/lib/python3.10/site-packages (from requests>=2.10.0->textacy) (2.1.1)\n",
      "Requirement already satisfied: urllib3<1.27,>=1.21.1 in /mnt/Work/My_works/AI_projects/Asimov/venv/lib/python3.10/site-packages (from requests>=2.10.0->textacy) (1.26.13)\n",
      "Requirement already satisfied: threadpoolctl>=2.0.0 in /mnt/Work/My_works/AI_projects/Asimov/venv/lib/python3.10/site-packages (from scikit-learn>=0.19.0->textacy) (3.1.0)\n",
      "Requirement already satisfied: murmurhash<1.1.0,>=0.28.0 in /mnt/Work/My_works/AI_projects/Asimov/venv/lib/python3.10/site-packages (from spacy>=3.0.0->textacy) (1.0.9)\n",
      "Requirement already satisfied: pathy>=0.3.5 in /mnt/Work/My_works/AI_projects/Asimov/venv/lib/python3.10/site-packages (from spacy>=3.0.0->textacy) (0.10.1)\n",
      "Requirement already satisfied: spacy-loggers<2.0.0,>=1.0.0 in /mnt/Work/My_works/AI_projects/Asimov/venv/lib/python3.10/site-packages (from spacy>=3.0.0->textacy) (1.0.4)\n",
      "Requirement already satisfied: langcodes<4.0.0,>=3.2.0 in /mnt/Work/My_works/AI_projects/Asimov/venv/lib/python3.10/site-packages (from spacy>=3.0.0->textacy) (3.3.0)\n",
      "Requirement already satisfied: preshed<3.1.0,>=3.0.2 in /mnt/Work/My_works/AI_projects/Asimov/venv/lib/python3.10/site-packages (from spacy>=3.0.0->textacy) (3.0.8)\n",
      "Requirement already satisfied: spacy-legacy<3.1.0,>=3.0.10 in /mnt/Work/My_works/AI_projects/Asimov/venv/lib/python3.10/site-packages (from spacy>=3.0.0->textacy) (3.0.10)\n",
      "Requirement already satisfied: srsly<3.0.0,>=2.4.3 in /mnt/Work/My_works/AI_projects/Asimov/venv/lib/python3.10/site-packages (from spacy>=3.0.0->textacy) (2.4.5)\n",
      "Requirement already satisfied: jinja2 in /mnt/Work/My_works/AI_projects/Asimov/venv/lib/python3.10/site-packages (from spacy>=3.0.0->textacy) (3.1.2)\n",
      "Requirement already satisfied: setuptools in /mnt/Work/My_works/AI_projects/Asimov/venv/lib/python3.10/site-packages (from spacy>=3.0.0->textacy) (59.6.0)\n",
      "Requirement already satisfied: typer<0.8.0,>=0.3.0 in /mnt/Work/My_works/AI_projects/Asimov/venv/lib/python3.10/site-packages (from spacy>=3.0.0->textacy) (0.7.0)\n",
      "Requirement already satisfied: wasabi<1.1.0,>=0.9.1 in /mnt/Work/My_works/AI_projects/Asimov/venv/lib/python3.10/site-packages (from spacy>=3.0.0->textacy) (0.10.1)\n",
      "Requirement already satisfied: cymem<2.1.0,>=2.0.2 in /mnt/Work/My_works/AI_projects/Asimov/venv/lib/python3.10/site-packages (from spacy>=3.0.0->textacy) (2.0.7)\n",
      "Requirement already satisfied: thinc<8.2.0,>=8.1.0 in /mnt/Work/My_works/AI_projects/Asimov/venv/lib/python3.10/site-packages (from spacy>=3.0.0->textacy) (8.1.5)\n",
      "Requirement already satisfied: packaging>=20.0 in /mnt/Work/My_works/AI_projects/Asimov/venv/lib/python3.10/site-packages (from spacy>=3.0.0->textacy) (22.0)\n",
      "Requirement already satisfied: pydantic!=1.8,!=1.8.1,<1.11.0,>=1.7.4 in /mnt/Work/My_works/AI_projects/Asimov/venv/lib/python3.10/site-packages (from spacy>=3.0.0->textacy) (1.10.2)\n",
      "Requirement already satisfied: smart-open<7.0.0,>=5.2.1 in /mnt/Work/My_works/AI_projects/Asimov/venv/lib/python3.10/site-packages (from pathy>=0.3.5->spacy>=3.0.0->textacy) (6.2.0)\n",
      "Requirement already satisfied: typing-extensions>=4.1.0 in /mnt/Work/My_works/AI_projects/Asimov/venv/lib/python3.10/site-packages (from pydantic!=1.8,!=1.8.1,<1.11.0,>=1.7.4->spacy>=3.0.0->textacy) (4.4.0)\n",
      "Requirement already satisfied: blis<0.8.0,>=0.7.8 in /mnt/Work/My_works/AI_projects/Asimov/venv/lib/python3.10/site-packages (from thinc<8.2.0,>=8.1.0->spacy>=3.0.0->textacy) (0.7.9)\n",
      "Requirement already satisfied: confection<1.0.0,>=0.0.1 in /mnt/Work/My_works/AI_projects/Asimov/venv/lib/python3.10/site-packages (from thinc<8.2.0,>=8.1.0->spacy>=3.0.0->textacy) (0.0.3)\n",
      "Requirement already satisfied: click<9.0.0,>=7.1.1 in /mnt/Work/My_works/AI_projects/Asimov/venv/lib/python3.10/site-packages (from typer<0.8.0,>=0.3.0->spacy>=3.0.0->textacy) (8.1.3)\n",
      "Requirement already satisfied: MarkupSafe>=2.0 in /mnt/Work/My_works/AI_projects/Asimov/venv/lib/python3.10/site-packages (from jinja2->spacy>=3.0.0->textacy) (2.1.1)\n"
     ]
    }
   ],
   "source": [
    "!pip install textacy"
   ]
  },
  {
   "cell_type": "code",
   "execution_count": 94,
   "metadata": {},
   "outputs": [],
   "source": [
    "import textacy\n",
    "about_talk_text = ('The talk will introduce reader about Use'\n",
    "                    ' cases of Natural Language Processing in' \n",
    "                                      ' Fintech')\n",
    "pattern = r'<VERB>?<ADV>*<VERB>+'\n",
    "about_talk_doc = textacy.make_spacy_doc(about_talk_text,\n",
    "                                         lang='en_core_web_sm')\n",
    "verb_phrases = textacy.extract.matches.regex_matches(about_talk_doc, pattern)\n",
    "# Print all Verb Phrase\n",
    "for chunk in verb_phrases:\n",
    "    print(chunk)\n",
    "\n",
    "\n",
    "# for chunk in about_talk_doc.noun_chunks:\n",
    "#     print (chunk)"
   ]
  },
  {
   "cell_type": "code",
   "execution_count": 95,
   "metadata": {},
   "outputs": [],
   "source": [
    "import spacy   \n",
    "from spacy.matcher import Matcher\n",
    "from spacy.util import filter_spans\n",
    "\n",
    "nlp = spacy.load('en_core_web_sm') \n",
    "\n",
    "sentence = 'The author was staring pensively as she wrote.'\n",
    "pattern = [{'POS': 'VERB', 'OP': '?'},\n",
    "           {'POS': 'ADV', 'OP': '*'},\n",
    "           {'POS': 'AUX', 'OP': '*'},\n",
    "           {'POS': 'VERB', 'OP': '+'}]\n",
    "\n",
    "# instantiate a Matcher instance\n",
    "matcher = Matcher(nlp.vocab)\n",
    "matcher.add(\"Verb phrase\", [pattern])\n",
    "\n",
    "doc = nlp(sentence) \n",
    "# call the matcher to find matches \n",
    "matches = matcher(doc)\n",
    "spans = [doc[start:end] for _, start, end in matches]\n",
    "\n",
    "fil_spans = filter_spans(spans)"
   ]
  },
  {
   "cell_type": "code",
   "execution_count": 96,
   "metadata": {},
   "outputs": [
    {
     "data": {
      "text/plain": [
       "4"
      ]
     },
     "execution_count": 96,
     "metadata": {},
     "output_type": "execute_result"
    }
   ],
   "source": [
    "fil_spans[0].end"
   ]
  },
  {
   "cell_type": "code",
   "execution_count": 97,
   "metadata": {},
   "outputs": [
    {
     "data": {
      "text/plain": [
       "'The author *was staring* pensively as she wrote.'"
      ]
     },
     "execution_count": 97,
     "metadata": {},
     "output_type": "execute_result"
    }
   ],
   "source": [
    "doc[:fil_spans[0].start].text + \" *\" + fil_spans[0].text + \"* \" + doc[fil_spans[0].end: ].text"
   ]
  },
  {
   "cell_type": "code",
   "execution_count": 98,
   "metadata": {},
   "outputs": [
    {
     "data": {
      "text/plain": [
       "'was staring'"
      ]
     },
     "execution_count": 98,
     "metadata": {},
     "output_type": "execute_result"
    }
   ],
   "source": [
    "fil_spans[0].text"
   ]
  },
  {
   "cell_type": "code",
   "execution_count": 99,
   "metadata": {},
   "outputs": [
    {
     "name": "stdout",
     "output_type": "stream",
     "text": [
      "The author\n",
      "she\n"
     ]
    }
   ],
   "source": [
    "for noun_chunk in doc.noun_chunks:\n",
    "    print(noun_chunk.text)"
   ]
  },
  {
   "cell_type": "code",
   "execution_count": 100,
   "metadata": {},
   "outputs": [
    {
     "data": {
      "text/plain": [
       "True"
      ]
     },
     "execution_count": 100,
     "metadata": {},
     "output_type": "execute_result"
    }
   ],
   "source": [
    "doc[-1].is_punct"
   ]
  },
  {
   "cell_type": "code",
   "execution_count": 101,
   "metadata": {},
   "outputs": [],
   "source": [
    "if doc[-1].is_punct: idx = -2\n",
    "else: idx = -1\n",
    "\n",
    "hint = doc[idx].text\n",
    "dashes = len(hint.split())\n",
    "text = doc[:idx].text"
   ]
  },
  {
   "cell_type": "code",
   "execution_count": 102,
   "metadata": {},
   "outputs": [
    {
     "data": {
      "text/plain": [
       "'The author was staring pensively as she'"
      ]
     },
     "execution_count": 102,
     "metadata": {},
     "output_type": "execute_result"
    }
   ],
   "source": [
    "text"
   ]
  },
  {
   "attachments": {},
   "cell_type": "markdown",
   "metadata": {},
   "source": [
    "## Redis"
   ]
  },
  {
   "cell_type": "code",
   "execution_count": 103,
   "metadata": {},
   "outputs": [
    {
     "name": "stdout",
     "output_type": "stream",
     "text": [
      "Requirement already satisfied: redis in /mnt/Work/My_works/AI_projects/Asimov/venv/lib/python3.10/site-packages (4.4.0)\n",
      "Requirement already satisfied: async-timeout>=4.0.2 in /mnt/Work/My_works/AI_projects/Asimov/venv/lib/python3.10/site-packages (from redis) (4.0.2)\n"
     ]
    }
   ],
   "source": [
    "!pip install redis"
   ]
  },
  {
   "cell_type": "code",
   "execution_count": 4,
   "metadata": {},
   "outputs": [],
   "source": [
    "import redis\n",
    "import json\n",
    "\n",
    "db = redis.Redis(host=\"0.0.0.0\", port=6379)"
   ]
  },
  {
   "cell_type": "code",
   "execution_count": 105,
   "metadata": {},
   "outputs": [
    {
     "data": {
      "text/plain": [
       "True"
      ]
     },
     "execution_count": 105,
     "metadata": {},
     "output_type": "execute_result"
    }
   ],
   "source": [
    "db.set(\"first\", json.dumps({\"data\":\"dsada\"}))"
   ]
  },
  {
   "cell_type": "code",
   "execution_count": 106,
   "metadata": {},
   "outputs": [
    {
     "name": "stdout",
     "output_type": "stream",
     "text": [
      "<class 'bytes'> b'{\"data\": \"dsada\"}'\n"
     ]
    }
   ],
   "source": [
    "first = db.get(\"first\")\n",
    "print(type(first), first)"
   ]
  },
  {
   "cell_type": "code",
   "execution_count": 107,
   "metadata": {},
   "outputs": [
    {
     "name": "stdout",
     "output_type": "stream",
     "text": [
      "<class 'dict'> {'data': 'dsada'}\n"
     ]
    }
   ],
   "source": [
    "first = json.loads(first)\n",
    "print(type(first), first)"
   ]
  },
  {
   "cell_type": "code",
   "execution_count": null,
   "metadata": {},
   "outputs": [
    {
     "data": {
      "text/plain": [
       "b'{\"data\": \"dsada\"}'"
      ]
     },
     "execution_count": 81,
     "metadata": {},
     "output_type": "execute_result"
    }
   ],
   "source": [
    "db.hget(\"user1\", 'chats')"
   ]
  },
  {
   "cell_type": "code",
   "execution_count": 2,
   "metadata": {},
   "outputs": [],
   "source": [
    "def hsetex(name, key, value, ttl=1800):  \n",
    "    db.hset(name=name, key=key, value=value)  \n",
    "    db.expire(name=name, time=ttl)"
   ]
  },
  {
   "cell_type": "code",
   "execution_count": 8,
   "metadata": {},
   "outputs": [],
   "source": [
    "hsetex(\"user1\", \"chats\", json.dumps({\"data\":[]}), 1800)"
   ]
  },
  {
   "cell_type": "code",
   "execution_count": 21,
   "metadata": {},
   "outputs": [
    {
     "data": {
      "text/plain": [
       "{b'chat_bot': b'[\"Hey\", \" I\\'m doing great, thanks for asking! How about you?\", \" That\\'s great to hear!\", \" Not much, just catching up with some friends. How about you?\", \" Sounds like a great way to spend the day!\"]',\n",
       " b'chat_user': b'[\"Hi, how are you\", \"I am doing good\", \"what\\'s up\", \"Just chilling\"]'}"
      ]
     },
     "execution_count": 21,
     "metadata": {},
     "output_type": "execute_result"
    }
   ],
   "source": [
    "db.hgetall(\"2\")"
   ]
  },
  {
   "cell_type": "code",
   "execution_count": 13,
   "metadata": {},
   "outputs": [
    {
     "data": {
      "text/plain": [
       "True"
      ]
     },
     "execution_count": 13,
     "metadata": {},
     "output_type": "execute_result"
    }
   ],
   "source": [
    "db.hexists(\"1\", \"mistakes\")"
   ]
  },
  {
   "cell_type": "code",
   "execution_count": null,
   "metadata": {},
   "outputs": [],
   "source": []
  }
 ],
 "metadata": {
  "kernelspec": {
   "display_name": "venv",
   "language": "python",
   "name": "python3"
  },
  "language_info": {
   "codemirror_mode": {
    "name": "ipython",
    "version": 3
   },
   "file_extension": ".py",
   "mimetype": "text/x-python",
   "name": "python",
   "nbconvert_exporter": "python",
   "pygments_lexer": "ipython3",
   "version": "3.10.6"
  },
  "orig_nbformat": 4,
  "vscode": {
   "interpreter": {
    "hash": "3840da848cb92b0c399f1f5f4392b461f2f9ce0473cd70b9b8970d27786da197"
   }
  }
 },
 "nbformat": 4,
 "nbformat_minor": 2
}
